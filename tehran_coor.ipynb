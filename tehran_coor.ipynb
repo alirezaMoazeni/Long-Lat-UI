{
 "cells": [
  {
   "cell_type": "code",
   "execution_count": 2,
   "metadata": {},
   "outputs": [],
   "source": [
    "import pandas as pd"
   ]
  },
  {
   "cell_type": "code",
   "execution_count": 1,
   "metadata": {},
   "outputs": [],
   "source": [
    "import pandas as pd\n",
    "\n",
    "data = {\n",
    "    'Latitude': [35.6892, 35.7090, 35.7248, 35.7356, 35.7547, 35.7328, 35.7691, 35.7879, 35.8148, 35.8258, 35.8508, 35.8610, 35.8764, 35.9029, 35.9148, 35.9388, 35.9573, 35.9705, 35.9914, 36.0062, 36.0200, 36.0379, 36.0543, 36.0660, 36.0809, 36.0962, 36.1096, 36.1290, 36.1425, 36.1538, 36.1650, 36.1767, 36.1900, 36.2038, 36.2155, 36.2271, 36.2382, 36.2491, 36.2605, 36.2718, 36.2828, 36.2936, 36.3041, 36.3144, 36.3245, 36.3343, 36.3439, 36.3533],\n",
    "    'Longitude': [51.3890, 51.3824, 51.3725, 51.3282, 51.4044, 51.4604, 51.4456, 51.4215, 51.4359, 51.4127, 51.4204, 51.4410, 51.4583, 51.4487, 51.4269, 51.4114, 51.4442, 51.3986, 51.4182, 51.3957, 51.4221, 51.4087, 51.4272, 51.4459, 51.4620, 51.4831, 51.5062, 51.4925, 51.4736, 51.4542, 51.4356, 51.4167, 51.3981, 51.3800, 51.3623, 51.3449, 51.3277, 51.3108, 51.2941, 51.2777, 51.2616, 51.2457, 51.2301, 51.2148, 51.1998, 51.1851, 51.1707, 51.1566]\n",
    "}\n",
    "\n",
    "df = pd.DataFrame(data)"
   ]
  },
  {
   "cell_type": "code",
   "execution_count": 2,
   "metadata": {},
   "outputs": [],
   "source": [
    "df.to_excel('tehran.xlsx', index=False)"
   ]
  },
  {
   "cell_type": "code",
   "execution_count": null,
   "metadata": {},
   "outputs": [],
   "source": []
  }
 ],
 "metadata": {
  "kernelspec": {
   "display_name": "ui",
   "language": "python",
   "name": "python3"
  },
  "language_info": {
   "codemirror_mode": {
    "name": "ipython",
    "version": 3
   },
   "file_extension": ".py",
   "mimetype": "text/x-python",
   "name": "python",
   "nbconvert_exporter": "python",
   "pygments_lexer": "ipython3",
   "version": "3.10.12"
  },
  "orig_nbformat": 4
 },
 "nbformat": 4,
 "nbformat_minor": 2
}
